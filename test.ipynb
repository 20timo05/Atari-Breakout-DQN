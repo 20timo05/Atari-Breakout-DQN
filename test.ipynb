{
 "cells": [
  {
   "cell_type": "code",
   "execution_count": 6,
   "metadata": {},
   "outputs": [],
   "source": [
    "import gymnasium as gym\n",
    "from gymnasium.wrappers import AtariPreprocessing, FrameStack\n",
    "from gymnasium.vector import SyncVectorEnv\n",
    "import pygame\n",
    "import numpy as np\n",
    "import torch\n",
    "\n",
    "from utils import DQN, ReplayMemory"
   ]
  },
  {
   "cell_type": "code",
   "execution_count": 7,
   "metadata": {},
   "outputs": [
    {
     "data": {
      "text/plain": [
       "<All keys matched successfully>"
      ]
     },
     "execution_count": 7,
     "metadata": {},
     "output_type": "execute_result"
    }
   ],
   "source": [
    "def make_env():\n",
    "    def _init():\n",
    "        env = gym.make(\"ALE/Breakout-v5\")\n",
    "        env = AtariPreprocessing(\n",
    "            env,\n",
    "            frame_skip=1,  # ALE/Breakout-v5 already uses frame_skip=4\n",
    "            screen_size=84,\n",
    "            grayscale_obs=True,\n",
    "            noop_max=30,\n",
    "        )\n",
    "        env = FrameStack(env, 4)\n",
    "        return env\n",
    "\n",
    "    return _init\n",
    "\n",
    "\n",
    "envs = SyncVectorEnv([make_env() for _ in range(1)])\n",
    "\n",
    "\n",
    "policy_network = DQN((4, 84, 84), 4)\n",
    "policy_network.load_state_dict(torch.load(\"./models/atari_model.pth\", map_location=torch.device(\"cpu\")))"
   ]
  },
  {
   "cell_type": "code",
   "execution_count": 8,
   "metadata": {},
   "outputs": [],
   "source": [
    "pygame.init()\n",
    "screen = pygame.display.set_mode((84, 84))\n",
    "pygame.display.set_caption('Breakout-v5')"
   ]
  },
  {
   "cell_type": "code",
   "execution_count": 9,
   "metadata": {},
   "outputs": [
    {
     "name": "stdout",
     "output_type": "stream",
     "text": [
      "Done\n"
     ]
    },
    {
     "data": {
      "text/plain": [
       "1.0"
      ]
     },
     "execution_count": 9,
     "metadata": {},
     "output_type": "execute_result"
    }
   ],
   "source": [
    "import time\n",
    "\n",
    "states, _ = envs.reset()\n",
    "\n",
    "total_reward = 0.0\n",
    "running = True\n",
    "\n",
    "for i in range(10000000000):\n",
    "    for event in pygame.event.get():\n",
    "        if event.type == pygame.QUIT:\n",
    "            running = False\n",
    "\n",
    "    if running == False:\n",
    "        break\n",
    "    \n",
    "    if i % 10000 == 0:\n",
    "        actions = policy_network.act(states, 1)\n",
    "        results = envs.step(actions)\n",
    "        new_states, rewards, terminated, truncated, _ = results\n",
    "\n",
    "        total_reward += rewards[0]\n",
    "\n",
    "    # Capture and render the frame\n",
    "    frame = new_states[0, -1]  # Extract the last frame from the state\n",
    "    frame = np.array(frame)  # Ensure frame is a numpy array\n",
    "    frame_surface = pygame.surfarray.make_surface(frame)\n",
    "    screen.blit(pygame.transform.scale(frame_surface, (84, 84)), (0, 0))\n",
    "    pygame.display.flip()\n",
    "\n",
    "    if i % 10000 == 0:\n",
    "        states = new_states\n",
    "\n",
    "        if terminated or truncated:\n",
    "            print(\"Done\")\n",
    "            break\n",
    "    \n",
    "\n",
    "envs.close()\n",
    "pygame.quit()\n",
    "\n",
    "total_reward"
   ]
  },
  {
   "cell_type": "code",
   "execution_count": null,
   "metadata": {},
   "outputs": [],
   "source": []
  }
 ],
 "metadata": {
  "kernelspec": {
   "display_name": "Python 3",
   "language": "python",
   "name": "python3"
  },
  "language_info": {
   "codemirror_mode": {
    "name": "ipython",
    "version": 3
   },
   "file_extension": ".py",
   "mimetype": "text/x-python",
   "name": "python",
   "nbconvert_exporter": "python",
   "pygments_lexer": "ipython3",
   "version": "3.11.5"
  }
 },
 "nbformat": 4,
 "nbformat_minor": 2
}
